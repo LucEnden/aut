{
 "cells": [
  {
   "cell_type": "code",
   "execution_count": 10,
   "metadata": {},
   "outputs": [],
   "source": [
    "java_ext = \".java\"\n",
    "grammer_ext = \".g4\"\n",
    "antlr_generated_files = [\n",
    "    \"BaseListener\",\n",
    "    \"BaseVisitor\",\n",
    "    \"Lexer\",\n",
    "    \"Listener\",\n",
    "    \"Parser\",\n",
    "    \"Visitor\"\n",
    "]"
   ]
  },
  {
   "cell_type": "code",
   "execution_count": 11,
   "metadata": {},
   "outputs": [
    {
     "data": {
      "text/plain": [
       "['d:\\\\Users\\\\luc\\\\Documents\\\\GitHub\\\\aut\\\\src\\\\Arithmetic',\n",
       " 'd:\\\\Users\\\\luc\\\\Documents\\\\GitHub\\\\aut\\\\src\\\\Demo']"
      ]
     },
     "execution_count": 11,
     "metadata": {},
     "output_type": "execute_result"
    }
   ],
   "source": [
    "import os\n",
    "\n",
    "# Find all the directories with a .g4 file\n",
    "grammer_dirs = []\n",
    "for root, dirs, files in os.walk(\".\"):\n",
    "    for file in files:\n",
    "        if file.endswith(grammer_ext) and root != \".\":\n",
    "            # add full path to grammer_dirs\n",
    "            grammer_dirs.append(os.getcwd() + root.replace(\".\", \"\"))\n",
    "\n",
    "grammer_dirs"
   ]
  },
  {
   "cell_type": "code",
   "execution_count": 12,
   "metadata": {},
   "outputs": [],
   "source": [
    "# Replaces all the generated files via antler to have the correct package name, i.e. the relative path to the src directory\n",
    "# The generated files are in the format:\n",
    "# package <relative dir name to src>\n",
    "# <its original content>\n",
    "\n",
    "for grammer_dir in grammer_dirs:\n",
    "    for root, dirs, files in os.walk(grammer_dir):\n",
    "        for file in files:\n",
    "            if any([str(file).endswith(f + java_ext) for f in antlr_generated_files]):\n",
    "                package_name = str(root).replace(os.getcwd() + os.sep, \"\").replace(os.path.sep, \".\")\n",
    "                with open(os.path.join(root, file), \"r\") as f:\n",
    "                    content = f.read()\n",
    "\n",
    "                if not content.startswith(\"package \" + package_name + \";\"):\n",
    "                    with open(os.path.join(root, file), \"w\") as f:\n",
    "                        f.write(\"package \" + package_name + \";\\n\" + content)"
   ]
  }
 ],
 "metadata": {
  "kernelspec": {
   "display_name": "aut",
   "language": "python",
   "name": "python3"
  },
  "language_info": {
   "codemirror_mode": {
    "name": "ipython",
    "version": 3
   },
   "file_extension": ".py",
   "mimetype": "text/x-python",
   "name": "python",
   "nbconvert_exporter": "python",
   "pygments_lexer": "ipython3",
   "version": "3.12.5"
  }
 },
 "nbformat": 4,
 "nbformat_minor": 2
}
